{
  "nbformat": 4,
  "nbformat_minor": 0,
  "metadata": {
    "colab": {
      "provenance": []
    },
    "kernelspec": {
      "name": "python3",
      "display_name": "Python 3"
    },
    "language_info": {
      "name": "python"
    }
  },
  "cells": [
    {
      "cell_type": "markdown",
      "source": [
        "#Theory Questions: Data Types and Structures"
      ],
      "metadata": {
        "id": "46dvZc-w2d7s"
      }
    },
    {
      "cell_type": "markdown",
      "source": [
        "#1. What are data structures, and why are they important?\n",
        "\n",
        "- Data structures are ways to store and organize data.\n",
        "- They help us use data efficiently, like finding or updating it quickly.\n",
        "- Examples: list, tuple, dictionary, set.\n",
        "\n",
        "\n"
      ],
      "metadata": {
        "id": "UJFB0uBC2jG8"
      }
    },
    {
      "cell_type": "markdown",
      "source": [
        "#2.  Explain the difference between mutable and immutable data types with examples?\n",
        "\n",
        "- Mutable means we can change the value (e.g., list, dictionary).\n",
        "- Immutable means we can't change it once it's made (e.g., string, tuple)."
      ],
      "metadata": {
        "id": "SPlK8uyY2_vV"
      }
    },
    {
      "cell_type": "code",
      "execution_count": null,
      "metadata": {
        "colab": {
          "base_uri": "https://localhost:8080/"
        },
        "id": "IgsZZlcC2aB8",
        "outputId": "be68f498-3481-4e4b-93c8-b72fcc2f90c5"
      },
      "outputs": [
        {
          "output_type": "execute_result",
          "data": {
            "text/plain": [
              "[10, 2, 3]"
            ]
          },
          "metadata": {},
          "execution_count": 4
        }
      ],
      "source": [
        "#example (mutable)\n",
        "my_list = [1, 2, 3]\n",
        "my_list[0] = 10  # Allowed\n",
        "my_list"
      ]
    },
    {
      "cell_type": "code",
      "source": [
        "#example (immutable)\n",
        "my_str = \"hello\"\n",
        "my_str[0] = 'H' #Error\n",
        "my_str"
      ],
      "metadata": {
        "colab": {
          "base_uri": "https://localhost:8080/",
          "height": 201
        },
        "id": "s7Qk50Br3Xon",
        "outputId": "a5b1e7d0-80c3-4055-e65e-3c8bfdb97d00"
      },
      "execution_count": null,
      "outputs": [
        {
          "output_type": "error",
          "ename": "TypeError",
          "evalue": "'str' object does not support item assignment",
          "traceback": [
            "\u001b[0;31m---------------------------------------------------------------------------\u001b[0m",
            "\u001b[0;31mTypeError\u001b[0m                                 Traceback (most recent call last)",
            "\u001b[0;32m/tmp/ipython-input-7-3611596159.py\u001b[0m in \u001b[0;36m<cell line: 0>\u001b[0;34m()\u001b[0m\n\u001b[1;32m      1\u001b[0m \u001b[0;31m#example (immutable)\u001b[0m\u001b[0;34m\u001b[0m\u001b[0;34m\u001b[0m\u001b[0m\n\u001b[1;32m      2\u001b[0m \u001b[0mmy_str\u001b[0m \u001b[0;34m=\u001b[0m \u001b[0;34m\"hello\"\u001b[0m\u001b[0;34m\u001b[0m\u001b[0;34m\u001b[0m\u001b[0m\n\u001b[0;32m----> 3\u001b[0;31m \u001b[0mmy_str\u001b[0m\u001b[0;34m[\u001b[0m\u001b[0;36m0\u001b[0m\u001b[0;34m]\u001b[0m \u001b[0;34m=\u001b[0m \u001b[0;34m'H'\u001b[0m \u001b[0;31m#Error\u001b[0m\u001b[0;34m\u001b[0m\u001b[0;34m\u001b[0m\u001b[0m\n\u001b[0m\u001b[1;32m      4\u001b[0m \u001b[0mmy_str\u001b[0m\u001b[0;34m\u001b[0m\u001b[0;34m\u001b[0m\u001b[0m\n",
            "\u001b[0;31mTypeError\u001b[0m: 'str' object does not support item assignment"
          ]
        }
      ]
    },
    {
      "cell_type": "markdown",
      "source": [
        "#3. What are the main differences between lists and tuples in Python?\n",
        "\n",
        "- Lists are mutable, slower, and use more memory.\n",
        "- Tuples are immutable, faster, and use less memory.\n",
        "- Lists: [1, 2, 3], Tuples: (1, 2, 3)"
      ],
      "metadata": {
        "id": "29W7QQlI3yA1"
      }
    },
    {
      "cell_type": "markdown",
      "source": [
        "#4. Describe how dictionaries store data.\n",
        "\n",
        "- Dictionaries store data as key-value pairs using a hash table under the hood. Each key is hashed to a unique index, allowing fast access, insertion, and deletion."
      ],
      "metadata": {
        "id": "U3VstHr44HEF"
      }
    },
    {
      "cell_type": "markdown",
      "source": [
        "#5. Why might you use a set instead of a list in Python?\n",
        "\n",
        "- Sets automatically remove duplicates\n",
        "\n",
        "- Faster lookup with O(1) average time complexity\n",
        "\n",
        "- Ideal for membership testing, e.g., checking if an item exists"
      ],
      "metadata": {
        "id": "VZi9rDyp4WaE"
      }
    },
    {
      "cell_type": "markdown",
      "source": [
        "#6. What is a string in Python, and how is it different from a list?\n",
        "\n",
        "- A string is a sequence of characters and immutable.\n",
        "\n",
        "- A list is a sequence of items that can be of different types and is mutable."
      ],
      "metadata": {
        "id": "3WvByeKf5X7U"
      }
    },
    {
      "cell_type": "code",
      "source": [
        "#example\n",
        "str1 = \"hello\"     # Immutable\n",
        "print(str1)"
      ],
      "metadata": {
        "colab": {
          "base_uri": "https://localhost:8080/"
        },
        "id": "N4TlLJLT3lpK",
        "outputId": "102f8c02-ff39-4719-d2f8-3cafda3720e1"
      },
      "execution_count": null,
      "outputs": [
        {
          "output_type": "stream",
          "name": "stdout",
          "text": [
            "hello\n"
          ]
        }
      ]
    },
    {
      "cell_type": "code",
      "source": [
        "str1[0] = \"H\"\n",
        "print(str1)"
      ],
      "metadata": {
        "colab": {
          "base_uri": "https://localhost:8080/",
          "height": 165
        },
        "id": "myrpjvWz5h99",
        "outputId": "c6958dab-7d7b-4ca7-da76-3403e58b4fba"
      },
      "execution_count": null,
      "outputs": [
        {
          "output_type": "error",
          "ename": "TypeError",
          "evalue": "'str' object does not support item assignment",
          "traceback": [
            "\u001b[0;31m---------------------------------------------------------------------------\u001b[0m",
            "\u001b[0;31mTypeError\u001b[0m                                 Traceback (most recent call last)",
            "\u001b[0;32m/tmp/ipython-input-14-418965377.py\u001b[0m in \u001b[0;36m<cell line: 0>\u001b[0;34m()\u001b[0m\n\u001b[0;32m----> 1\u001b[0;31m \u001b[0mstr1\u001b[0m\u001b[0;34m[\u001b[0m\u001b[0;36m0\u001b[0m\u001b[0;34m]\u001b[0m \u001b[0;34m=\u001b[0m \u001b[0;34m\"H\"\u001b[0m\u001b[0;34m\u001b[0m\u001b[0;34m\u001b[0m\u001b[0m\n\u001b[0m\u001b[1;32m      2\u001b[0m \u001b[0mprint\u001b[0m\u001b[0;34m(\u001b[0m\u001b[0mstr1\u001b[0m\u001b[0;34m)\u001b[0m\u001b[0;34m\u001b[0m\u001b[0;34m\u001b[0m\u001b[0m\n",
            "\u001b[0;31mTypeError\u001b[0m: 'str' object does not support item assignment"
          ]
        }
      ]
    },
    {
      "cell_type": "code",
      "source": [
        "list1 = ['h', 'e', 'l', 'l', 'o']  # Mutable\n",
        "print(list1)"
      ],
      "metadata": {
        "colab": {
          "base_uri": "https://localhost:8080/"
        },
        "id": "ym8s3jdN50s5",
        "outputId": "7673a9d5-7e48-44f2-c2dd-0d574f94809e"
      },
      "execution_count": null,
      "outputs": [
        {
          "output_type": "stream",
          "name": "stdout",
          "text": [
            "['h', 'e', 'l', 'l', 'o']\n"
          ]
        }
      ]
    },
    {
      "cell_type": "code",
      "source": [
        "list1[0] = \"H\"\n",
        "print(list1)"
      ],
      "metadata": {
        "colab": {
          "base_uri": "https://localhost:8080/"
        },
        "id": "t9koTvir56vG",
        "outputId": "2d6e13fd-448c-4767-f3bd-56c665dda574"
      },
      "execution_count": null,
      "outputs": [
        {
          "output_type": "stream",
          "name": "stdout",
          "text": [
            "['H', 'e', 'l', 'l', 'o']\n"
          ]
        }
      ]
    },
    {
      "cell_type": "markdown",
      "source": [
        "#7. How do tuples ensure data integrity in Python?\n",
        "\n",
        "- Tuples are immutable, meaning their values can’t be altered after creation. This makes them reliable for read-only or fixed data, reducing the risk of accidental changes."
      ],
      "metadata": {
        "id": "haR5TiwE6IVt"
      }
    },
    {
      "cell_type": "markdown",
      "source": [
        "#8. What is a hash table, and how does it relate to dictionaries in Python?\n",
        "\n",
        "- A hash table is a data structure that maps keys to values using a hash function. Python dictionaries are implemented using hash tables, enabling constant-time lookup and insertion."
      ],
      "metadata": {
        "id": "VbIY7uHw6ZUl"
      }
    },
    {
      "cell_type": "markdown",
      "source": [
        "#9. Can lists contain different data types in Python?\n",
        "\n",
        "- Yes, Python lists can hold items of mixed data types:"
      ],
      "metadata": {
        "id": "9rGFbN6y6rBc"
      }
    },
    {
      "cell_type": "code",
      "source": [
        "#example\n",
        "my_list = [1, \"hello\", 3.14, True]\n",
        "my_list"
      ],
      "metadata": {
        "colab": {
          "base_uri": "https://localhost:8080/"
        },
        "id": "fhjsK0Sl6FrC",
        "outputId": "72b66378-47d5-4755-aac3-479414525d78"
      },
      "execution_count": null,
      "outputs": [
        {
          "output_type": "execute_result",
          "data": {
            "text/plain": [
              "[1, 'hello', 3.14, True]"
            ]
          },
          "metadata": {},
          "execution_count": 18
        }
      ]
    },
    {
      "cell_type": "markdown",
      "source": [
        "#10. Explain why strings are immutable in Python.\n",
        "\n",
        "- Strings are immutable to:\n",
        "- Improve security\n",
        "- Enable string interning (memory optimization)\n",
        "- Ensure consistent hash values for use in keys (e.g., in dictionaries)"
      ],
      "metadata": {
        "id": "q8gKFkQl64J8"
      }
    },
    {
      "cell_type": "markdown",
      "source": [
        "#11. What advantages do dictionaries offer over lists for certain tasks?\n",
        "\n",
        "- Dictionaries are faster for finding data if you know the key.\n",
        "- Easy to read and understand with key-value format.\n",
        "- Good for storing data like name and age: {\"name\": \"Mayuresh\", \"age\": 22}"
      ],
      "metadata": {
        "id": "zWONQ2MU7Jxk"
      }
    },
    {
      "cell_type": "markdown",
      "source": [
        "#12. Describe a scenario where using a tuple would be preferable over a list.\n",
        "\n",
        "- When you don’t want the data to change.\n",
        "- When using it as a key in a dictionary.\n",
        "- Example: storing coordinates (10, 20)"
      ],
      "metadata": {
        "id": "0zUx1umu7hi8"
      }
    },
    {
      "cell_type": "markdown",
      "source": [
        "#13. How do sets handle duplicate values in Python?\n",
        "\n",
        "- Sets do not allow duplicate values."
      ],
      "metadata": {
        "id": "4Vhrc3e67zCl"
      }
    },
    {
      "cell_type": "code",
      "source": [
        "s = {1, 2, 2, 3}\n",
        "print(s)"
      ],
      "metadata": {
        "colab": {
          "base_uri": "https://localhost:8080/"
        },
        "id": "-8-6k86i623n",
        "outputId": "6bf483fe-a1ea-4635-c6b4-06106bd06ce4"
      },
      "execution_count": null,
      "outputs": [
        {
          "output_type": "stream",
          "name": "stdout",
          "text": [
            "{1, 2, 3}\n"
          ]
        }
      ]
    },
    {
      "cell_type": "markdown",
      "source": [
        "#14.How does the “in” keyword work differently for lists and dictionaries?\n",
        "\n",
        "- In lists, it checks if a value exists in the list (O(n))\n",
        "- In dictionaries, it checks if a key exists (O(1))"
      ],
      "metadata": {
        "id": "rl3X_qGg8BPs"
      }
    },
    {
      "cell_type": "markdown",
      "source": [
        "#15.  Can you modify the elements of a tuple? Explain why or why not.\n",
        "\n",
        "- No, tuples are immutable, so once created, their elements cannot be changed. This ensures data stability and allows them to be used as keys in dictionaries."
      ],
      "metadata": {
        "id": "QdR32b0L8UFN"
      }
    },
    {
      "cell_type": "markdown",
      "source": [
        "#16. What is a nested dictionary, and give an example of its use case.\n",
        "\n",
        "- A nested dictionary is a dictionary inside another dictionary."
      ],
      "metadata": {
        "id": "S4UWZbMT8byE"
      }
    },
    {
      "cell_type": "code",
      "source": [
        "#example\n",
        "student = {\n",
        "  \"name\": \"Ravi\",\n",
        "  \"marks\": {\"math\": 90, \"science\": 85}\n",
        "}"
      ],
      "metadata": {
        "colab": {
          "base_uri": "https://localhost:8080/"
        },
        "id": "97PeFBpf7_yU",
        "outputId": "f39c2c65-16a8-46ee-f0df-3d9c68ecfa60"
      },
      "execution_count": null,
      "outputs": [
        {
          "output_type": "execute_result",
          "data": {
            "text/plain": [
              "{'name': 'Ravi', 'marks': {'math': 90, 'science': 85}}"
            ]
          },
          "metadata": {},
          "execution_count": 22
        }
      ]
    },
    {
      "cell_type": "code",
      "source": [
        "student"
      ],
      "metadata": {
        "colab": {
          "base_uri": "https://localhost:8080/"
        },
        "id": "8q2SHOCU8qbJ",
        "outputId": "0871d4c4-4697-43c7-d92e-968bbafb35c6"
      },
      "execution_count": null,
      "outputs": [
        {
          "output_type": "execute_result",
          "data": {
            "text/plain": [
              "{'name': 'Ravi', 'marks': {'math': 90, 'science': 85}}"
            ]
          },
          "metadata": {},
          "execution_count": 23
        }
      ]
    },
    {
      "cell_type": "markdown",
      "source": [
        "#17. Describe the time complexity of accessing elements in a dictionary.\n",
        "\n",
        "- On average: O(1) → very fast.\n",
        "- In rare cases: O(n) → if there’s a hash collision."
      ],
      "metadata": {
        "id": "t4Nkrj1Q8-6X"
      }
    },
    {
      "cell_type": "markdown",
      "source": [
        "#18. In what situations are lists preferred over dictionaries?\n",
        "\n",
        "- When we just need to store simple values.\n",
        "- When the order of items matters.\n",
        "- When we don’t need key-value pairs."
      ],
      "metadata": {
        "id": "UQ_oVCyD9fVd"
      }
    },
    {
      "cell_type": "markdown",
      "source": [
        "#19. Why are dictionaries considered unordered, and how does that affect data retrieval?\n",
        "\n",
        "- Dictionaries used to be unordered (before Python 3.7). Now they preserve insertion order but conceptually they are key-based and not position-based."
      ],
      "metadata": {
        "id": "cFA4y9W19uO8"
      }
    },
    {
      "cell_type": "markdown",
      "source": [
        "#20. Explain the difference between a list and a dictionary in terms of data retrieval.\n",
        "\n",
        "- List: use index to get value → list[0]\n",
        "- Dictionary: use key to get value → dict['name']\n",
        "- Dictionary is better when you know the key."
      ],
      "metadata": {
        "id": "bn3aRy0N-AvV"
      }
    },
    {
      "cell_type": "markdown",
      "source": [
        "#Practical Questions"
      ],
      "metadata": {
        "id": "TjECrKP3-YId"
      }
    },
    {
      "cell_type": "code",
      "source": [
        "#1.  Write a code to create a string with your name and print it?\n",
        "name = \"Mayuresh\"\n",
        "print(name)"
      ],
      "metadata": {
        "colab": {
          "base_uri": "https://localhost:8080/"
        },
        "id": "FZMlJUj182cX",
        "outputId": "5b36e89c-86c2-4e71-b49b-70701cb9fd5f"
      },
      "execution_count": null,
      "outputs": [
        {
          "output_type": "stream",
          "name": "stdout",
          "text": [
            "Mayuresh\n"
          ]
        }
      ]
    },
    {
      "cell_type": "code",
      "source": [
        "#2. Write a code to find the length of the string \"Hello World\"?\n",
        "str1 = \"Hello World\"\n",
        "len(str1)"
      ],
      "metadata": {
        "colab": {
          "base_uri": "https://localhost:8080/"
        },
        "id": "NxaS40tX_RUc",
        "outputId": "26daabe1-a15f-4ea0-e9db-24e6f14975ad"
      },
      "execution_count": null,
      "outputs": [
        {
          "output_type": "execute_result",
          "data": {
            "text/plain": [
              "11"
            ]
          },
          "metadata": {},
          "execution_count": 25
        }
      ]
    },
    {
      "cell_type": "code",
      "source": [
        "#3. Write a code to slice the first 3 characters from the string \"Python Programming\"?\n",
        "code = \"Python Programming\"\n",
        "code [:3]"
      ],
      "metadata": {
        "colab": {
          "base_uri": "https://localhost:8080/",
          "height": 36
        },
        "id": "fen3LNiz_d3-",
        "outputId": "a93542f8-78d7-4f69-c641-46983efddc7b"
      },
      "execution_count": null,
      "outputs": [
        {
          "output_type": "execute_result",
          "data": {
            "text/plain": [
              "'Pyt'"
            ],
            "application/vnd.google.colaboratory.intrinsic+json": {
              "type": "string"
            }
          },
          "metadata": {},
          "execution_count": 47
        }
      ]
    },
    {
      "cell_type": "code",
      "source": [
        "#4.Write a code to convert the string \"hello\" to uppercase?\n",
        "str = \"hello\"\n",
        "print(str.upper())"
      ],
      "metadata": {
        "colab": {
          "base_uri": "https://localhost:8080/"
        },
        "id": "3JUGHOhj_oFa",
        "outputId": "1994db2d-9cee-42bc-a1e6-127e1d61e4ed"
      },
      "execution_count": null,
      "outputs": [
        {
          "output_type": "stream",
          "name": "stdout",
          "text": [
            "HELLO\n"
          ]
        }
      ]
    },
    {
      "cell_type": "code",
      "source": [
        "#5. Write a code to replace the word \"apple\" with \"orange\" in the string \"I like apple\"?\n",
        "sentence = \"I like apple\"\n",
        "sentence.replace(\"apple\", \"orange\")"
      ],
      "metadata": {
        "colab": {
          "base_uri": "https://localhost:8080/",
          "height": 36
        },
        "id": "DHopmGH__9nW",
        "outputId": "7d1134e3-b5c1-43f6-d495-1425064893da"
      },
      "execution_count": null,
      "outputs": [
        {
          "output_type": "execute_result",
          "data": {
            "text/plain": [
              "'I like orange'"
            ],
            "application/vnd.google.colaboratory.intrinsic+json": {
              "type": "string"
            }
          },
          "metadata": {},
          "execution_count": 35
        }
      ]
    },
    {
      "cell_type": "code",
      "source": [
        "#6. Write a code to create a list with numbers 1 to 5 and print it.\n",
        "num = [1, 2, 3, 4, 5]\n",
        "print(num)"
      ],
      "metadata": {
        "colab": {
          "base_uri": "https://localhost:8080/"
        },
        "id": "8P9YRDRNAwsr",
        "outputId": "3798b026-6fef-41fb-f092-de5b9158751e"
      },
      "execution_count": null,
      "outputs": [
        {
          "output_type": "stream",
          "name": "stdout",
          "text": [
            "[1, 2, 3, 4, 5]\n"
          ]
        }
      ]
    },
    {
      "cell_type": "code",
      "source": [
        "#7. Write a code to append the number 10 to the list [1, 2, 3, 4]?\n",
        "list1 = [1, 2, 3, 4]\n",
        "list1.append(10)\n",
        "print(list1)"
      ],
      "metadata": {
        "colab": {
          "base_uri": "https://localhost:8080/"
        },
        "id": "VkdA38OFA7LW",
        "outputId": "dee9a15f-9e0a-45c5-ed4a-bc7dbcb1ce75"
      },
      "execution_count": null,
      "outputs": [
        {
          "output_type": "stream",
          "name": "stdout",
          "text": [
            "[1, 2, 3, 4, 10]\n"
          ]
        }
      ]
    },
    {
      "cell_type": "code",
      "source": [
        "#8.  Write a code to remove the number 3 from the list [1, 2, 3, 4, 5]?\n",
        "list2 = [1, 2, 3, 4, 5]\n",
        "list2.remove(3)\n",
        "print(list2)"
      ],
      "metadata": {
        "colab": {
          "base_uri": "https://localhost:8080/"
        },
        "id": "wgq_8YlABcyH",
        "outputId": "2a65f811-2a31-4848-f6c1-8f796f8d11b0"
      },
      "execution_count": null,
      "outputs": [
        {
          "output_type": "stream",
          "name": "stdout",
          "text": [
            "[1, 2, 4, 5]\n"
          ]
        }
      ]
    },
    {
      "cell_type": "code",
      "source": [
        "#9. Write a code to access the second element in the list ['a', 'b', 'c', 'd']?\n",
        "list3 = ['a', 'b', 'c', 'd']\n",
        "print(list3[1])"
      ],
      "metadata": {
        "colab": {
          "base_uri": "https://localhost:8080/"
        },
        "id": "LACU2zEnBxmV",
        "outputId": "dab26516-cb99-4c2b-c784-4d0fbf27d173"
      },
      "execution_count": null,
      "outputs": [
        {
          "output_type": "stream",
          "name": "stdout",
          "text": [
            "b\n"
          ]
        }
      ]
    },
    {
      "cell_type": "code",
      "source": [
        "#10. Write a code to reverse the list [10, 20, 30, 40, 50].\n",
        "list4 = [10, 20, 30, 40, 50]\n",
        "print(list4[ : :-1])"
      ],
      "metadata": {
        "colab": {
          "base_uri": "https://localhost:8080/"
        },
        "id": "Ovuj4XW3B-rC",
        "outputId": "cf6cca7f-9c31-4acf-98c4-16f2c24afb66"
      },
      "execution_count": null,
      "outputs": [
        {
          "output_type": "stream",
          "name": "stdout",
          "text": [
            "[50, 40, 30, 20, 10]\n"
          ]
        }
      ]
    },
    {
      "cell_type": "code",
      "source": [
        "#11.  Write a code to create a tuple with the elements 100, 200, 300 and print it.\n",
        "t = (100, 200, 300)\n",
        "print(t)\n"
      ],
      "metadata": {
        "colab": {
          "base_uri": "https://localhost:8080/"
        },
        "id": "XOaYko4uCTzK",
        "outputId": "f4f2eea8-25cb-4cef-97a0-78d709c709e5"
      },
      "execution_count": null,
      "outputs": [
        {
          "output_type": "stream",
          "name": "stdout",
          "text": [
            "(100, 200, 300)\n"
          ]
        }
      ]
    },
    {
      "cell_type": "code",
      "source": [
        "#12. Write a code to access the second-to-last element of the tuple ('red', 'green', 'blue', 'yellow').\n",
        "t1 = ('red', 'green', 'blue', 'yellow')\n",
        "print(t1[-2])"
      ],
      "metadata": {
        "colab": {
          "base_uri": "https://localhost:8080/"
        },
        "id": "8c60aIKECqRd",
        "outputId": "a1e6530f-02c5-4420-e2b7-cfe87635ae3a"
      },
      "execution_count": null,
      "outputs": [
        {
          "output_type": "stream",
          "name": "stdout",
          "text": [
            "blue\n"
          ]
        }
      ]
    },
    {
      "cell_type": "code",
      "source": [
        "#13. Write a code to find the minimum number in the tuple (10, 20, 5, 15).\n",
        "t2 = (10, 20, 5, 15)\n",
        "print(min(t2))"
      ],
      "metadata": {
        "colab": {
          "base_uri": "https://localhost:8080/"
        },
        "id": "r1yirtCvDNff",
        "outputId": "eb3996fb-be94-4bc1-a29a-05ec938854be"
      },
      "execution_count": null,
      "outputs": [
        {
          "output_type": "stream",
          "name": "stdout",
          "text": [
            "5\n"
          ]
        }
      ]
    },
    {
      "cell_type": "code",
      "source": [
        "#14.  Write a code to find the index of the element \"cat\" in the tuple ('dog', 'cat', 'rabbit').\n",
        "pets = ('dog', 'cat', 'rabbit')\n",
        "print(pets.index('cat'))\n",
        "\n"
      ],
      "metadata": {
        "colab": {
          "base_uri": "https://localhost:8080/"
        },
        "id": "R5fYrjTmDo4q",
        "outputId": "17becfa9-36fc-4314-a7b5-bf830672df4c"
      },
      "execution_count": null,
      "outputs": [
        {
          "output_type": "stream",
          "name": "stdout",
          "text": [
            "1\n"
          ]
        }
      ]
    },
    {
      "cell_type": "code",
      "source": [
        "#15. Write a code to create a tuple containing three different fruits and check if \"kiwi\" is in it.\n",
        "fruits = (\"apple\", \"banana\", \"orange\")\n",
        "if \"kiwi\" in fruits:\n",
        "    print(\"kiwi is in the tuple\")\n",
        "else:\n",
        "    print(\"kiwi is not in the tuple\")"
      ],
      "metadata": {
        "colab": {
          "base_uri": "https://localhost:8080/"
        },
        "id": "qVPVor1MEAn-",
        "outputId": "72097f24-f125-403d-df6d-388361eac740"
      },
      "execution_count": null,
      "outputs": [
        {
          "output_type": "stream",
          "name": "stdout",
          "text": [
            "kiwi is not in the tuple\n"
          ]
        }
      ]
    },
    {
      "cell_type": "code",
      "source": [
        "#16. Write a code to create a set with the elements 'a', 'b', 'c' and print it.\n",
        "my_set = {'a', 'b', 'c'}\n",
        "print(my_set)"
      ],
      "metadata": {
        "colab": {
          "base_uri": "https://localhost:8080/"
        },
        "id": "dvU9xZk4EOo2",
        "outputId": "44555f4a-2432-4ebd-e18d-375ad20020e4"
      },
      "execution_count": 103,
      "outputs": [
        {
          "output_type": "stream",
          "name": "stdout",
          "text": [
            "{'a', 'c', 'b'}\n"
          ]
        }
      ]
    },
    {
      "cell_type": "code",
      "source": [
        "#17.  Write a code to clear all elements from the set {1, 2, 3, 4, 5}.\n",
        "elements = {1, 2, 3, 4, 5}\n",
        "elements.clear()\n",
        "print(elements)"
      ],
      "metadata": {
        "colab": {
          "base_uri": "https://localhost:8080/"
        },
        "id": "3pKBoE5sEiMP",
        "outputId": "7d4d7831-4fd6-47d8-97a2-4f92efe0ef75"
      },
      "execution_count": null,
      "outputs": [
        {
          "output_type": "stream",
          "name": "stdout",
          "text": [
            "set()\n"
          ]
        }
      ]
    },
    {
      "cell_type": "code",
      "source": [
        "#18. Write a code to remove the element 4 from the set {1, 2, 3, 4}.\n",
        "num =  {1, 2, 3, 4}\n",
        "num.remove(4)\n",
        "print(num)\n",
        "#Output: {1, 2, 3}"
      ],
      "metadata": {
        "colab": {
          "base_uri": "https://localhost:8080/"
        },
        "id": "DZ2mBZz7Eykd",
        "outputId": "fd2b6b0d-88bd-4425-99f2-3045ff9a6a6b"
      },
      "execution_count": null,
      "outputs": [
        {
          "output_type": "stream",
          "name": "stdout",
          "text": [
            "{1, 2, 3}\n"
          ]
        }
      ]
    },
    {
      "cell_type": "code",
      "source": [
        "#19. Write a code to find the union of two sets {1, 2, 3} and {3, 4, 5}.\n",
        "a = {1, 2, 3}\n",
        "b = {3, 4, 5}\n",
        "print(a|b)"
      ],
      "metadata": {
        "colab": {
          "base_uri": "https://localhost:8080/"
        },
        "id": "y3u15EPCFEM4",
        "outputId": "fdea71a6-8db7-42ec-a875-cf028b6a5dea"
      },
      "execution_count": 99,
      "outputs": [
        {
          "output_type": "stream",
          "name": "stdout",
          "text": [
            "{1, 2, 3, 4, 5}\n"
          ]
        }
      ]
    },
    {
      "cell_type": "code",
      "source": [
        "#20. Write a code to find the intersection of two sets {1, 2, 3} and {2, 3, 4}.\n",
        "\n",
        "a = {1, 2, 3}\n",
        "b = {2, 3, 4}\n",
        "print(a & b)"
      ],
      "metadata": {
        "colab": {
          "base_uri": "https://localhost:8080/"
        },
        "id": "bQTPmiN4FNwt",
        "outputId": "12051c03-c669-48e0-c589-0efefad5c947"
      },
      "execution_count": null,
      "outputs": [
        {
          "output_type": "stream",
          "name": "stdout",
          "text": [
            "{2, 3}\n"
          ]
        }
      ]
    },
    {
      "cell_type": "code",
      "source": [
        "#21.  Write a code to create a dictionary with the keys \"name\", \"age\", and \"city\", and print it.\n",
        "my_dict = {\"name\":\"John\", \"age\":25, \"city\":\"New York\"}\n",
        "print(my_dict)"
      ],
      "metadata": {
        "colab": {
          "base_uri": "https://localhost:8080/"
        },
        "id": "tjPo-yTzF-aH",
        "outputId": "ad4a6713-3f61-44ad-896c-99ad798f7e24"
      },
      "execution_count": null,
      "outputs": [
        {
          "output_type": "stream",
          "name": "stdout",
          "text": [
            "{'name': 'John', 'age': 25, 'city': 'New York'}\n"
          ]
        }
      ]
    },
    {
      "cell_type": "code",
      "source": [
        "#22. Write a code to add a new key-value pair \"country\": \"USA\" to the dictionary {'name': 'John', 'age': 25}.\n",
        "my_dict1 = {'name': 'John', 'age': 25}\n",
        "my_dict1[\"country\"] = \"USA\"\n",
        "print(my_dict1)"
      ],
      "metadata": {
        "colab": {
          "base_uri": "https://localhost:8080/"
        },
        "id": "194ok2f6GJ7y",
        "outputId": "da3add18-9e01-476f-f01e-83b8f08d91aa"
      },
      "execution_count": null,
      "outputs": [
        {
          "output_type": "stream",
          "name": "stdout",
          "text": [
            "{'name': 'John', 'age': 25, 'country': 'USA'}\n"
          ]
        }
      ]
    },
    {
      "cell_type": "code",
      "source": [
        "#23.  Write a code to access the value associated with the key \"name\" in the dictionary {'name': 'Alice', 'age': 30}.\n",
        "info = {'name': 'Alice', 'age': 30}\n",
        "print(info[\"name\"])"
      ],
      "metadata": {
        "colab": {
          "base_uri": "https://localhost:8080/"
        },
        "id": "OBdciYWYGbtv",
        "outputId": "9a310407-4b30-4be8-af99-b7befc002fae"
      },
      "execution_count": null,
      "outputs": [
        {
          "output_type": "stream",
          "name": "stdout",
          "text": [
            "Alice\n"
          ]
        }
      ]
    },
    {
      "cell_type": "code",
      "source": [
        "#24. Write a code to remove the key \"age\" from the dictionary {'name': 'Bob', 'age': 22, 'city': 'New York'}.\n",
        "info1 = {'name': 'Bob', 'age': 22, 'city': 'New York'}\n",
        "del info1[\"age\"]\n",
        "print(info1)"
      ],
      "metadata": {
        "colab": {
          "base_uri": "https://localhost:8080/"
        },
        "id": "jZuo87fJGzQQ",
        "outputId": "0e997def-3d79-4c4b-be7e-9d00da53dc9f"
      },
      "execution_count": null,
      "outputs": [
        {
          "output_type": "stream",
          "name": "stdout",
          "text": [
            "{'name': 'Bob', 'city': 'New York'}\n"
          ]
        }
      ]
    },
    {
      "cell_type": "code",
      "source": [
        "#25. Write a code to check if the key \"city\" exists in the dictionary {'name': 'Alice', 'city': 'Paris'}.\n",
        "info2 = {'name': 'Alice', 'city': 'Paris'}\n",
        "if \"city\" in info2:\n",
        "    print(\"city exists in the dictionary\")\n",
        "else:\n",
        "    print(\"city does not exist in the dictionary\")"
      ],
      "metadata": {
        "colab": {
          "base_uri": "https://localhost:8080/"
        },
        "id": "7AxeWSpsG9i3",
        "outputId": "b702d3de-108d-4aa3-e4f7-c5dea52cf873"
      },
      "execution_count": null,
      "outputs": [
        {
          "output_type": "stream",
          "name": "stdout",
          "text": [
            "city exists in the dictionary\n"
          ]
        }
      ]
    },
    {
      "cell_type": "code",
      "source": [
        "#26.  Write a code to create a list, a tuple, and a dictionary, and print themmy_tuple = (4, 5, 6)\n",
        "my_list = [1, 2, 3]\n",
        "my_tuple = (4, 5, 6)\n",
        "my_dict = {\"a\": 1, \"b\": 2}\n",
        "print(my_list)\n",
        "print(my_tuple)\n",
        "print(my_dict)"
      ],
      "metadata": {
        "colab": {
          "base_uri": "https://localhost:8080/"
        },
        "id": "Z-JyAu5IHNI0",
        "outputId": "ce1194dc-330d-470e-8b1b-f74ce788fe5b"
      },
      "execution_count": null,
      "outputs": [
        {
          "output_type": "stream",
          "name": "stdout",
          "text": [
            "[1, 2, 3]\n",
            "(4, 5, 6)\n",
            "{'a': 1, 'b': 2}\n"
          ]
        }
      ]
    },
    {
      "cell_type": "code",
      "source": [
        "#27.  Write a code to create a list of 5 random numbers between 1 and 100, sort it in ascending order, and print the result.(replaced)\n",
        "import random\n",
        "nums = random.sample(range(1, 101), 5)\n",
        "nums.sort()\n",
        "print(nums)"
      ],
      "metadata": {
        "colab": {
          "base_uri": "https://localhost:8080/"
        },
        "id": "wgM5Ky2JHjTd",
        "outputId": "b0314e07-8d58-4d6d-b9fa-428ca8317d09"
      },
      "execution_count": null,
      "outputs": [
        {
          "output_type": "stream",
          "name": "stdout",
          "text": [
            "[32, 55, 57, 64, 72]\n"
          ]
        }
      ]
    },
    {
      "cell_type": "code",
      "source": [
        "#28. Write a code to create a list with strings and print the element at the third index.\n",
        "str_list = [\"apple\", \"banana\", \"cherry\", \"date\", \"elderberry\"]\n",
        "print(str_list[2])"
      ],
      "metadata": {
        "colab": {
          "base_uri": "https://localhost:8080/"
        },
        "id": "BMVwQ-QZIYRf",
        "outputId": "b3153671-4710-42eb-a1a4-3238ab7e13ab"
      },
      "execution_count": null,
      "outputs": [
        {
          "output_type": "stream",
          "name": "stdout",
          "text": [
            "cherry\n"
          ]
        }
      ]
    },
    {
      "cell_type": "code",
      "source": [
        "#29. Write a code to combine two dictionaries into one and print the result.\n",
        "dict1 = {'a': 1, 'b': 2}\n",
        "dict2 = {'c': 3, 'd': 4}\n",
        "dict3 = {**dict1, **dict2}\n",
        "print(dict3)\n",
        "\n"
      ],
      "metadata": {
        "colab": {
          "base_uri": "https://localhost:8080/"
        },
        "id": "xZ_Sb86NJDVd",
        "outputId": "a3f74b57-1499-4e85-e309-c87d4d261f09"
      },
      "execution_count": null,
      "outputs": [
        {
          "output_type": "stream",
          "name": "stdout",
          "text": [
            "{'a': 1, 'b': 2, 'c': 3, 'd': 4}\n"
          ]
        }
      ]
    },
    {
      "cell_type": "code",
      "source": [
        "#30.  Write a code to convert a list of strings into a set.\n",
        "\n",
        "str_list = [\"apple\", \"banana\", \"cherry\", \"date\", \"elderberry\"]\n",
        "# Now calling the built-in set function\n",
        "str_set = set(str_list)\n",
        "print(str_set)"
      ],
      "metadata": {
        "colab": {
          "base_uri": "https://localhost:8080/"
        },
        "id": "F9LCPo3TJO5J",
        "outputId": "16f9cac3-87fe-4d33-eead-29bf9aa2d2b3"
      },
      "execution_count": 119,
      "outputs": [
        {
          "output_type": "stream",
          "name": "stdout",
          "text": [
            "{'date', 'elderberry', 'apple', 'banana', 'cherry'}\n"
          ]
        }
      ]
    },
    {
      "cell_type": "code",
      "source": [],
      "metadata": {
        "id": "qFyLv5qENWcq"
      },
      "execution_count": null,
      "outputs": []
    }
  ]
}